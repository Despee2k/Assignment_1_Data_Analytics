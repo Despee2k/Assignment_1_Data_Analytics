{
 "cells": [
  {
   "cell_type": "code",
   "execution_count": 30,
   "id": "0b59de51",
   "metadata": {},
   "outputs": [],
   "source": [
    "import numpy as np\n",
    "import pandas as pd\n",
    "import networkx as nx\n",
    "from scipy.spatial.distance import mahalanobis\n",
    "from scipy.optimize import linear_sum_assignment\n",
    "from sklearn.preprocessing import StandardScaler"
   ]
  },
  {
   "cell_type": "code",
   "execution_count": 29,
   "id": "8d8bc7da",
   "metadata": {},
   "outputs": [
    {
     "ename": "ValueError",
     "evalue": "operands could not be broadcast together with shapes (400,) (200,) (200,) ",
     "output_type": "error",
     "traceback": [
      "\u001b[1;31m---------------------------------------------------------------------------\u001b[0m",
      "\u001b[1;31mValueError\u001b[0m                                Traceback (most recent call last)",
      "Cell \u001b[1;32mIn[29], line 22\u001b[0m\n\u001b[0;32m     16\u001b[0m control_times \u001b[38;5;241m=\u001b[39m np\u001b[38;5;241m.\u001b[39mrandom\u001b[38;5;241m.\u001b[39mchoice(np\u001b[38;5;241m.\u001b[39marange(\u001b[38;5;241m1\u001b[39m, \u001b[38;5;241m13\u001b[39m), size\u001b[38;5;241m=\u001b[39mn_patients \u001b[38;5;241m-\u001b[39m n_treated, replace\u001b[38;5;241m=\u001b[39m\u001b[38;5;28;01mTrue\u001b[39;00m)\n\u001b[0;32m     18\u001b[0m \u001b[38;5;66;03m# Combine into a DataFrame\u001b[39;00m\n\u001b[0;32m     19\u001b[0m data \u001b[38;5;241m=\u001b[39m pd\u001b[38;5;241m.\u001b[39mDataFrame({\n\u001b[0;32m     20\u001b[0m     \u001b[38;5;124m'\u001b[39m\u001b[38;5;124mpatient_id\u001b[39m\u001b[38;5;124m'\u001b[39m: patient_ids,\n\u001b[0;32m     21\u001b[0m     \u001b[38;5;124m'\u001b[39m\u001b[38;5;124mtreatment_status\u001b[39m\u001b[38;5;124m'\u001b[39m: treatment_status,\n\u001b[1;32m---> 22\u001b[0m     \u001b[38;5;124m'\u001b[39m\u001b[38;5;124mtreatment_time\u001b[39m\u001b[38;5;124m'\u001b[39m: np\u001b[38;5;241m.\u001b[39mwhere(treatment_status \u001b[38;5;241m==\u001b[39m \u001b[38;5;241m1\u001b[39m, treatment_times, control_times)\n\u001b[0;32m     23\u001b[0m })\n\u001b[0;32m     25\u001b[0m \u001b[38;5;66;03m# Generate baseline and time-varying covariates (pain, urgency, frequency)\u001b[39;00m\n\u001b[0;32m     26\u001b[0m \u001b[38;5;28;01mfor\u001b[39;00m covariate \u001b[38;5;129;01min\u001b[39;00m [\u001b[38;5;124m'\u001b[39m\u001b[38;5;124mpain\u001b[39m\u001b[38;5;124m'\u001b[39m, \u001b[38;5;124m'\u001b[39m\u001b[38;5;124murgency\u001b[39m\u001b[38;5;124m'\u001b[39m, \u001b[38;5;124m'\u001b[39m\u001b[38;5;124mfrequency\u001b[39m\u001b[38;5;124m'\u001b[39m]:\n",
      "File \u001b[1;32m<__array_function__ internals>:200\u001b[0m, in \u001b[0;36mwhere\u001b[1;34m(*args, **kwargs)\u001b[0m\n",
      "\u001b[1;31mValueError\u001b[0m: operands could not be broadcast together with shapes (400,) (200,) (200,) "
     ]
    }
   ],
   "source": [
    "np.random.seed(42)  # For reproducibility\n",
    "\n",
    "# Number of patients\n",
    "n_patients = 400\n",
    "n_treated = 200\n",
    "\n",
    "# Generate patient IDs\n",
    "patient_ids = np.arange(1, n_patients + 1)\n",
    "\n",
    "# Generate treatment status (1 = treated, 0 = control)\n",
    "treatment_status = np.concatenate([np.ones(n_treated), np.zeros(n_patients - n_treated)])\n",
    "np.random.shuffle(treatment_status)\n",
    "\n",
    "# Generate treatment times (in 3-month intervals)\n",
    "treatment_times = np.random.choice(np.arange(1, 13), size=n_treated, replace=True)  # 1-12 intervals\n",
    "control_times = np.random.choice(np.arange(1, 13), size=n_patients - n_treated, replace=True)\n",
    "\n",
    "# Combine into a DataFrame\n",
    "data = pd.DataFrame({\n",
    "    'patient_id': patient_ids,\n",
    "    'treatment_status': treatment_status,\n",
    "    'treatment_time': np.where(treatment_status == 1, treatment_times, control_times)\n",
    "})\n",
    "\n",
    "# Generate baseline and time-varying covariates (pain, urgency, frequency)\n",
    "for covariate in ['pain', 'urgency', 'frequency']:\n",
    "    data[f'{covariate}_baseline'] = np.random.normal(loc=5, scale=2, size=n_patients)\n",
    "    data[f'{covariate}_time_t'] = data[f'{covariate}_baseline'] + np.random.normal(loc=0, scale=1, size=n_patients)\n",
    "\n",
    "# Display the first few rows of the synthetic data\n",
    "data.head()"
   ]
  },
  {
   "cell_type": "code",
   "execution_count": null,
   "id": "afb3a0c8",
   "metadata": {},
   "outputs": [],
   "source": []
  },
  {
   "cell_type": "code",
   "execution_count": null,
   "id": "8ebe6c31",
   "metadata": {},
   "outputs": [],
   "source": []
  },
  {
   "cell_type": "code",
   "execution_count": null,
   "id": "160cd757",
   "metadata": {},
   "outputs": [],
   "source": []
  },
  {
   "cell_type": "code",
   "execution_count": null,
   "id": "3c90e1be",
   "metadata": {},
   "outputs": [],
   "source": []
  },
  {
   "cell_type": "code",
   "execution_count": null,
   "id": "5020efd8",
   "metadata": {},
   "outputs": [],
   "source": []
  }
 ],
 "metadata": {
  "kernelspec": {
   "display_name": "Python 3 (ipykernel)",
   "language": "python",
   "name": "python3"
  },
  "language_info": {
   "codemirror_mode": {
    "name": "ipython",
    "version": 3
   },
   "file_extension": ".py",
   "mimetype": "text/x-python",
   "name": "python",
   "nbconvert_exporter": "python",
   "pygments_lexer": "ipython3",
   "version": "3.11.4"
  }
 },
 "nbformat": 4,
 "nbformat_minor": 5
}
